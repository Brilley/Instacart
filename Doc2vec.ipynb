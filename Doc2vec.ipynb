{
 "cells": [
  {
   "cell_type": "markdown",
   "metadata": {
    "_cell_guid": "03ecf8ae-159e-7431-b7f5-02daf1088b5a",
    "_uuid": "4e9d916d8f28faadba8eaa79902c87b265de6fd0"
   },
   "source": [
    "### Load the needed libraries"
   ]
  },
  {
   "cell_type": "code",
   "execution_count": 1,
   "metadata": {
    "_cell_guid": "a76aaef1-be2a-bd72-0929-1047da62e163",
    "_uuid": "a09f1e18d3090755cfa49561d797063d0b419cdb",
    "collapsed": false
   },
   "outputs": [
    {
     "name": "stderr",
     "output_type": "stream",
     "text": [
      "C:\\Users\\emindeniz\\AppData\\Local\\Continuum\\Anaconda3\\lib\\site-packages\\gensim\\utils.py:860: UserWarning: detected Windows; aliasing chunkize to chunkize_serial\n",
      "  warnings.warn(\"detected Windows; aliasing chunkize to chunkize_serial\")\n",
      "Using TensorFlow backend.\n"
     ]
    }
   ],
   "source": [
    "import pandas as pd\n",
    "import numpy as np\n",
    "import gensim\n",
    "from matplotlib import pyplot as plt\n",
    "from sklearn.manifold import TSNE\n",
    "import timeit\n",
    "import collections\n",
    "\n",
    "%matplotlib inline\n",
    "\n",
    "dimension_size = 20"
   ]
  },
  {
   "cell_type": "markdown",
   "metadata": {
    "_cell_guid": "2b8256c2-d87e-1aa2-0321-12520c11691c",
    "_uuid": "838ace0f4b91158e60891b177d46519deff6d344"
   },
   "source": [
    "### Load the Data"
   ]
  },
  {
   "cell_type": "code",
   "execution_count": 2,
   "metadata": {
    "_cell_guid": "1aa25d77-9705-aea4-f702-39465732e6e0",
    "_uuid": "ed09f158d784c35358898505f06e986bf90823c8",
    "collapsed": true
   },
   "outputs": [],
   "source": [
    "train_orders = pd.read_csv(\"order_products__train.csv\")\n",
    "prior_orders = pd.read_csv(\"order_products__prior.csv\")\n",
    "products = pd.read_csv(\"products.csv\").set_index('product_id')"
   ]
  },
  {
   "cell_type": "code",
   "execution_count": 3,
   "metadata": {
    "collapsed": false
   },
   "outputs": [],
   "source": [
    "orders = pd.read_csv(\"orders.csv\")\n",
    "prior_orders = prior_orders.merge(right=orders[['user_id','order_id','order_number']],on='order_id',how='left')"
   ]
  },
  {
   "cell_type": "code",
   "execution_count": 4,
   "metadata": {
    "collapsed": false
   },
   "outputs": [
    {
     "data": {
      "text/html": [
       "<div>\n",
       "<style>\n",
       "    .dataframe thead tr:only-child th {\n",
       "        text-align: right;\n",
       "    }\n",
       "\n",
       "    .dataframe thead th {\n",
       "        text-align: left;\n",
       "    }\n",
       "\n",
       "    .dataframe tbody tr th {\n",
       "        vertical-align: top;\n",
       "    }\n",
       "</style>\n",
       "<table border=\"1\" class=\"dataframe\">\n",
       "  <thead>\n",
       "    <tr style=\"text-align: right;\">\n",
       "      <th></th>\n",
       "      <th>product_name</th>\n",
       "      <th>aisle_id</th>\n",
       "      <th>department_id</th>\n",
       "    </tr>\n",
       "    <tr>\n",
       "      <th>product_id</th>\n",
       "      <th></th>\n",
       "      <th></th>\n",
       "      <th></th>\n",
       "    </tr>\n",
       "  </thead>\n",
       "  <tbody>\n",
       "    <tr>\n",
       "      <th>1</th>\n",
       "      <td>Chocolate Sandwich Cookies</td>\n",
       "      <td>61</td>\n",
       "      <td>19</td>\n",
       "    </tr>\n",
       "    <tr>\n",
       "      <th>2</th>\n",
       "      <td>All-Seasons Salt</td>\n",
       "      <td>104</td>\n",
       "      <td>13</td>\n",
       "    </tr>\n",
       "    <tr>\n",
       "      <th>3</th>\n",
       "      <td>Robust Golden Unsweetened Oolong Tea</td>\n",
       "      <td>94</td>\n",
       "      <td>7</td>\n",
       "    </tr>\n",
       "    <tr>\n",
       "      <th>4</th>\n",
       "      <td>Smart Ones Classic Favorites Mini Rigatoni Wit...</td>\n",
       "      <td>38</td>\n",
       "      <td>1</td>\n",
       "    </tr>\n",
       "    <tr>\n",
       "      <th>5</th>\n",
       "      <td>Green Chile Anytime Sauce</td>\n",
       "      <td>5</td>\n",
       "      <td>13</td>\n",
       "    </tr>\n",
       "  </tbody>\n",
       "</table>\n",
       "</div>"
      ],
      "text/plain": [
       "                                                 product_name  aisle_id  \\\n",
       "product_id                                                                \n",
       "1                                  Chocolate Sandwich Cookies        61   \n",
       "2                                            All-Seasons Salt       104   \n",
       "3                        Robust Golden Unsweetened Oolong Tea        94   \n",
       "4           Smart Ones Classic Favorites Mini Rigatoni Wit...        38   \n",
       "5                                   Green Chile Anytime Sauce         5   \n",
       "\n",
       "            department_id  \n",
       "product_id                 \n",
       "1                      19  \n",
       "2                      13  \n",
       "3                       7  \n",
       "4                       1  \n",
       "5                      13  "
      ]
     },
     "execution_count": 4,
     "metadata": {},
     "output_type": "execute_result"
    }
   ],
   "source": [
    "products.head()"
   ]
  },
  {
   "cell_type": "markdown",
   "metadata": {
    "_cell_guid": "ba83c492-a018-aa2e-e9a1-e1a5cfbb4926",
    "_uuid": "f71367766847b3455e4df3442639957e12255b70"
   },
   "source": [
    "### Turn the product ID to a string\n",
    "#### This is necessary because Gensim's Word2Vec expects sentences, so we have to resort to this dirty workaround"
   ]
  },
  {
   "cell_type": "code",
   "execution_count": 5,
   "metadata": {
    "_cell_guid": "f4991a97-8c21-5ac2-8cc1-97161c2244f7",
    "_uuid": "48245f664e931d3a52c0a560a8db4f83c0a8fe9f",
    "collapsed": false
   },
   "outputs": [
    {
     "data": {
      "text/html": [
       "<div>\n",
       "<style>\n",
       "    .dataframe thead tr:only-child th {\n",
       "        text-align: right;\n",
       "    }\n",
       "\n",
       "    .dataframe thead th {\n",
       "        text-align: left;\n",
       "    }\n",
       "\n",
       "    .dataframe tbody tr th {\n",
       "        vertical-align: top;\n",
       "    }\n",
       "</style>\n",
       "<table border=\"1\" class=\"dataframe\">\n",
       "  <thead>\n",
       "    <tr style=\"text-align: right;\">\n",
       "      <th></th>\n",
       "      <th>order_id</th>\n",
       "      <th>product_id</th>\n",
       "      <th>add_to_cart_order</th>\n",
       "      <th>reordered</th>\n",
       "      <th>user_id</th>\n",
       "      <th>order_number</th>\n",
       "    </tr>\n",
       "  </thead>\n",
       "  <tbody>\n",
       "    <tr>\n",
       "      <th>0</th>\n",
       "      <td>2</td>\n",
       "      <td>33120</td>\n",
       "      <td>1</td>\n",
       "      <td>1</td>\n",
       "      <td>202279</td>\n",
       "      <td>3</td>\n",
       "    </tr>\n",
       "    <tr>\n",
       "      <th>1</th>\n",
       "      <td>2</td>\n",
       "      <td>28985</td>\n",
       "      <td>2</td>\n",
       "      <td>1</td>\n",
       "      <td>202279</td>\n",
       "      <td>3</td>\n",
       "    </tr>\n",
       "    <tr>\n",
       "      <th>2</th>\n",
       "      <td>2</td>\n",
       "      <td>9327</td>\n",
       "      <td>3</td>\n",
       "      <td>0</td>\n",
       "      <td>202279</td>\n",
       "      <td>3</td>\n",
       "    </tr>\n",
       "    <tr>\n",
       "      <th>3</th>\n",
       "      <td>2</td>\n",
       "      <td>45918</td>\n",
       "      <td>4</td>\n",
       "      <td>1</td>\n",
       "      <td>202279</td>\n",
       "      <td>3</td>\n",
       "    </tr>\n",
       "    <tr>\n",
       "      <th>4</th>\n",
       "      <td>2</td>\n",
       "      <td>30035</td>\n",
       "      <td>5</td>\n",
       "      <td>0</td>\n",
       "      <td>202279</td>\n",
       "      <td>3</td>\n",
       "    </tr>\n",
       "  </tbody>\n",
       "</table>\n",
       "</div>"
      ],
      "text/plain": [
       "   order_id product_id  add_to_cart_order  reordered  user_id  order_number\n",
       "0         2      33120                  1          1   202279             3\n",
       "1         2      28985                  2          1   202279             3\n",
       "2         2       9327                  3          0   202279             3\n",
       "3         2      45918                  4          1   202279             3\n",
       "4         2      30035                  5          0   202279             3"
      ]
     },
     "execution_count": 5,
     "metadata": {},
     "output_type": "execute_result"
    }
   ],
   "source": [
    "train_orders[\"product_id\"] = train_orders[\"product_id\"].astype(str)\n",
    "prior_orders[\"product_id\"] = prior_orders[\"product_id\"].astype(str)\n",
    "prior_orders.head()"
   ]
  },
  {
   "cell_type": "code",
   "execution_count": 6,
   "metadata": {
    "_cell_guid": "98c1d70f-df71-2216-ac72-8dcb8947cb0a",
    "_uuid": "e375e8d4f9e553cd63e48550d1a90547a2e01773",
    "collapsed": false
   },
   "outputs": [
    {
     "data": {
      "text/html": [
       "<div>\n",
       "<style>\n",
       "    .dataframe thead tr:only-child th {\n",
       "        text-align: right;\n",
       "    }\n",
       "\n",
       "    .dataframe thead th {\n",
       "        text-align: left;\n",
       "    }\n",
       "\n",
       "    .dataframe tbody tr th {\n",
       "        vertical-align: top;\n",
       "    }\n",
       "</style>\n",
       "<table border=\"1\" class=\"dataframe\">\n",
       "  <thead>\n",
       "    <tr style=\"text-align: right;\">\n",
       "      <th></th>\n",
       "      <th>order_id</th>\n",
       "      <th>product_id</th>\n",
       "      <th>add_to_cart_order</th>\n",
       "      <th>reordered</th>\n",
       "      <th>user_id</th>\n",
       "      <th>order_number</th>\n",
       "    </tr>\n",
       "  </thead>\n",
       "  <tbody>\n",
       "    <tr>\n",
       "      <th>24076664</th>\n",
       "      <td>2539329</td>\n",
       "      <td>196</td>\n",
       "      <td>1</td>\n",
       "      <td>0</td>\n",
       "      <td>1</td>\n",
       "      <td>1</td>\n",
       "    </tr>\n",
       "    <tr>\n",
       "      <th>24076665</th>\n",
       "      <td>2539329</td>\n",
       "      <td>14084</td>\n",
       "      <td>2</td>\n",
       "      <td>0</td>\n",
       "      <td>1</td>\n",
       "      <td>1</td>\n",
       "    </tr>\n",
       "    <tr>\n",
       "      <th>24076666</th>\n",
       "      <td>2539329</td>\n",
       "      <td>12427</td>\n",
       "      <td>3</td>\n",
       "      <td>0</td>\n",
       "      <td>1</td>\n",
       "      <td>1</td>\n",
       "    </tr>\n",
       "    <tr>\n",
       "      <th>24076667</th>\n",
       "      <td>2539329</td>\n",
       "      <td>26088</td>\n",
       "      <td>4</td>\n",
       "      <td>0</td>\n",
       "      <td>1</td>\n",
       "      <td>1</td>\n",
       "    </tr>\n",
       "    <tr>\n",
       "      <th>24076668</th>\n",
       "      <td>2539329</td>\n",
       "      <td>26405</td>\n",
       "      <td>5</td>\n",
       "      <td>0</td>\n",
       "      <td>1</td>\n",
       "      <td>1</td>\n",
       "    </tr>\n",
       "  </tbody>\n",
       "</table>\n",
       "</div>"
      ],
      "text/plain": [
       "          order_id product_id  add_to_cart_order  reordered  user_id  \\\n",
       "24076664   2539329        196                  1          0        1   \n",
       "24076665   2539329      14084                  2          0        1   \n",
       "24076666   2539329      12427                  3          0        1   \n",
       "24076667   2539329      26088                  4          0        1   \n",
       "24076668   2539329      26405                  5          0        1   \n",
       "\n",
       "          order_number  \n",
       "24076664             1  \n",
       "24076665             1  \n",
       "24076666             1  \n",
       "24076667             1  \n",
       "24076668             1  "
      ]
     },
     "execution_count": 6,
     "metadata": {},
     "output_type": "execute_result"
    }
   ],
   "source": [
    "#This line is very important to make sense of users orders\n",
    "prior_orders.sort_values(by=['user_id','order_number','add_to_cart_order'],inplace=True)\n",
    "prior_orders.head()"
   ]
  },
  {
   "cell_type": "code",
   "execution_count": 26,
   "metadata": {
    "collapsed": false
   },
   "outputs": [
    {
     "name": "stdout",
     "output_type": "stream",
     "text": [
      "['32478', '46041']\n"
     ]
    }
   ],
   "source": [
    "user1_set = set(prior_orders[prior_orders.user_id==196001].product_id.tolist())\n",
    "user2_set = set(prior_orders[prior_orders.user_id==54166].product_id.tolist())\n",
    "print(list(user1_set&user2_set))"
   ]
  },
  {
   "cell_type": "markdown",
   "metadata": {
    "_cell_guid": "2a515ef5-2317-4642-79ae-7621b8012b70",
    "_uuid": "48144848b51e8f737e8da21c24c4d1f3df80c663"
   },
   "source": [
    "### Prepare docs (user with all orders)"
   ]
  },
  {
   "cell_type": "code",
   "execution_count": 8,
   "metadata": {
    "collapsed": false
   },
   "outputs": [
    {
     "name": "stdout",
     "output_type": "stream",
     "text": [
      "(206209, 1)\n"
     ]
    },
    {
     "data": {
      "text/html": [
       "<div>\n",
       "<style>\n",
       "    .dataframe thead tr:only-child th {\n",
       "        text-align: right;\n",
       "    }\n",
       "\n",
       "    .dataframe thead th {\n",
       "        text-align: left;\n",
       "    }\n",
       "\n",
       "    .dataframe tbody tr th {\n",
       "        vertical-align: top;\n",
       "    }\n",
       "</style>\n",
       "<table border=\"1\" class=\"dataframe\">\n",
       "  <thead>\n",
       "    <tr style=\"text-align: right;\">\n",
       "      <th></th>\n",
       "      <th>all_orders</th>\n",
       "    </tr>\n",
       "    <tr>\n",
       "      <th>user_id</th>\n",
       "      <th></th>\n",
       "    </tr>\n",
       "  </thead>\n",
       "  <tbody>\n",
       "    <tr>\n",
       "      <th>1</th>\n",
       "      <td>196 14084 12427 26088 26405 196 10258 12427 13...</td>\n",
       "    </tr>\n",
       "    <tr>\n",
       "      <th>2</th>\n",
       "      <td>32792 47766 20574 12000 48110 22474 16589 3591...</td>\n",
       "    </tr>\n",
       "    <tr>\n",
       "      <th>3</th>\n",
       "      <td>9387 17668 15143 16797 39190 47766 21903 39922...</td>\n",
       "    </tr>\n",
       "    <tr>\n",
       "      <th>4</th>\n",
       "      <td>36606 7350 35469 2707 42329 7160 1200 17769 43...</td>\n",
       "    </tr>\n",
       "    <tr>\n",
       "      <th>5</th>\n",
       "      <td>15349 21413 48775 28289 8518 11777 31717 26604...</td>\n",
       "    </tr>\n",
       "  </tbody>\n",
       "</table>\n",
       "</div>"
      ],
      "text/plain": [
       "                                                all_orders\n",
       "user_id                                                   \n",
       "1        196 14084 12427 26088 26405 196 10258 12427 13...\n",
       "2        32792 47766 20574 12000 48110 22474 16589 3591...\n",
       "3        9387 17668 15143 16797 39190 47766 21903 39922...\n",
       "4        36606 7350 35469 2707 42329 7160 1200 17769 43...\n",
       "5        15349 21413 48775 28289 8518 11777 31717 26604..."
      ]
     },
     "execution_count": 8,
     "metadata": {},
     "output_type": "execute_result"
    }
   ],
   "source": [
    "#train_products = train_orders.groupby(\"order_id\").apply(lambda order: order['product_id'].tolist())\n",
    "combined_orders_by_user_id = prior_orders.groupby(\"user_id\").apply(lambda order: ' '.join(order['product_id'].tolist()))\n",
    "\n",
    "combined_orders_by_user_id = pd.DataFrame(combined_orders_by_user_id,columns=['all_orders'])\n",
    "print(combined_orders_by_user_id.shape)\n",
    "combined_orders_by_user_id.head()"
   ]
  },
  {
   "cell_type": "code",
   "execution_count": 9,
   "metadata": {
    "collapsed": false
   },
   "outputs": [
    {
     "data": {
      "text/html": [
       "<div>\n",
       "<style>\n",
       "    .dataframe thead tr:only-child th {\n",
       "        text-align: right;\n",
       "    }\n",
       "\n",
       "    .dataframe thead th {\n",
       "        text-align: left;\n",
       "    }\n",
       "\n",
       "    .dataframe tbody tr th {\n",
       "        vertical-align: top;\n",
       "    }\n",
       "</style>\n",
       "<table border=\"1\" class=\"dataframe\">\n",
       "  <thead>\n",
       "    <tr style=\"text-align: right;\">\n",
       "      <th></th>\n",
       "      <th>user_id</th>\n",
       "      <th>all_orders</th>\n",
       "    </tr>\n",
       "  </thead>\n",
       "  <tbody>\n",
       "    <tr>\n",
       "      <th>0</th>\n",
       "      <td>1</td>\n",
       "      <td>196 14084 12427 26088 26405 196 10258 12427 13...</td>\n",
       "    </tr>\n",
       "    <tr>\n",
       "      <th>1</th>\n",
       "      <td>2</td>\n",
       "      <td>32792 47766 20574 12000 48110 22474 16589 3591...</td>\n",
       "    </tr>\n",
       "    <tr>\n",
       "      <th>2</th>\n",
       "      <td>3</td>\n",
       "      <td>9387 17668 15143 16797 39190 47766 21903 39922...</td>\n",
       "    </tr>\n",
       "    <tr>\n",
       "      <th>3</th>\n",
       "      <td>4</td>\n",
       "      <td>36606 7350 35469 2707 42329 7160 1200 17769 43...</td>\n",
       "    </tr>\n",
       "    <tr>\n",
       "      <th>4</th>\n",
       "      <td>5</td>\n",
       "      <td>15349 21413 48775 28289 8518 11777 31717 26604...</td>\n",
       "    </tr>\n",
       "  </tbody>\n",
       "</table>\n",
       "</div>"
      ],
      "text/plain": [
       "   user_id                                         all_orders\n",
       "0        1  196 14084 12427 26088 26405 196 10258 12427 13...\n",
       "1        2  32792 47766 20574 12000 48110 22474 16589 3591...\n",
       "2        3  9387 17668 15143 16797 39190 47766 21903 39922...\n",
       "3        4  36606 7350 35469 2707 42329 7160 1200 17769 43...\n",
       "4        5  15349 21413 48775 28289 8518 11777 31717 26604..."
      ]
     },
     "execution_count": 9,
     "metadata": {},
     "output_type": "execute_result"
    }
   ],
   "source": [
    "combined_orders_by_user_id.reset_index(inplace=True)\n",
    "\n",
    "combined_orders_by_user_id.head()"
   ]
  },
  {
   "cell_type": "code",
   "execution_count": 10,
   "metadata": {
    "collapsed": true
   },
   "outputs": [],
   "source": [
    "combined_orders_by_user_id.user_id = combined_orders_by_user_id.user_id.astype(str)"
   ]
  },
  {
   "cell_type": "code",
   "execution_count": 11,
   "metadata": {
    "collapsed": false
   },
   "outputs": [
    {
     "name": "stdout",
     "output_type": "stream",
     "text": [
      "iteration: 0\n",
      "iteration: 1\n",
      "iteration: 2\n",
      "iteration: 3\n",
      "iteration: 4\n",
      "iteration: 5\n",
      "iteration: 6\n",
      "iteration: 7\n",
      "iteration: 8\n",
      "iteration: 9\n",
      "31108.58114291358\n"
     ]
    }
   ],
   "source": [
    "# This is the iterator approach\n",
    "from gensim.models.doc2vec import LabeledSentence, TaggedDocument\n",
    "\n",
    "start_time = timeit.default_timer()\n",
    "\n",
    "class TaggedDocumentIterator(object):\n",
    "    def __init__(self, df):\n",
    "       self.df = df\n",
    "    def __iter__(self):\n",
    "        for row in self.df.itertuples():\n",
    "            #yield LabeledSentence(words=dict(row._asdict())['all_orders'].split(),tags=[dict(row._asdict())['user_id']])\n",
    "            yield TaggedDocument(words=dict(row._asdict())['all_orders'].split(),tags=[dict(row._asdict())['user_id']])\n",
    "            \n",
    "it = TaggedDocumentIterator(combined_orders_by_user_id)\n",
    "\n",
    "model = gensim.models.Doc2Vec(size=dimension_size, window=5, min_count=10, workers=4,alpha=0.055, min_alpha=0.055,iter=120) # use fixed learning rate\n",
    "#model = gensim.models.Doc2Vec(size=dimension_size, window=5, min_count=5,iter=10) # use fixed learning rate\n",
    "\n",
    "train_corpus = list(it)\n",
    "\n",
    "model.build_vocab(train_corpus)\n",
    "\n",
    "for epoch in range(10):\n",
    "    model.alpha -= 0.005 # decrease the learning rate\n",
    "    model.min_alpha = model.alpha # fix the learning rate, no deca\n",
    "    model.train(train_corpus,total_examples=model.corpus_count,epochs=model.iter)\n",
    "    print('iteration:',epoch)\n",
    "\n",
    "print(timeit.default_timer() - start_time )"
   ]
  },
  {
   "cell_type": "code",
   "execution_count": 21,
   "metadata": {
    "collapsed": false
   },
   "outputs": [
    {
     "name": "stdout",
     "output_type": "stream",
     "text": [
      "iteration: 0\n",
      "iteration: 1\n",
      "iteration: 2\n",
      "iteration: 3\n",
      "iteration: 4\n",
      "iteration: 5\n",
      "iteration: 6\n",
      "iteration: 7\n",
      "iteration: 8\n",
      "iteration: 9\n"
     ]
    }
   ],
   "source": [
    "for epoch in range(10):\n",
    "    model.alpha = 0.005 # decrease the learning rate\n",
    "    model.min_alpha = model.alpha # fix the learning rate, no deca\n",
    "    model.train(train_corpus,total_examples=model.corpus_count,epochs=60)\n",
    "    print('iteration:',epoch)"
   ]
  },
  {
   "cell_type": "code",
   "execution_count": 22,
   "metadata": {
    "collapsed": false
   },
   "outputs": [
    {
     "data": {
      "text/plain": [
       "[TaggedDocument(words=['6846', '9405', '41213', '40396', '14901', '40534', '23039', '890', '20073', '13176', '20842', '23594', '25837', '41213', '9405', '20073', '4591', '25837', '6187', '13176', '6846', '28590', '6846', '41213', '9405', '40534', '40396', '13176', '25837', '23594', '2519', '10070', '19734', '26634', '37654', '23892', '38167', '41213', '13176', '23594', '2280', '41665', '28156', '40992', '25544', '22713', '11791', '1979', '43961', '8006', '2295', '19348', '23892', '9405', '6846', '13176', '14197', '6187', '6846', '9405', '755', '40992', '48742', '48697', '6825', '44325', '23909', '4461', '38167', '43961', '19348', '13176', '6846', '17500', '36056', '12376', '40992', '33129', '14870', '16066', '38167', '23892', '6846', '9405', '6846', '15700', '26503', '41213', '23800', '24852', '13838', '31130', '6846', '9405', '41213', '24852', '19348', '15700', '40310', '48370', '6846', '24852', '9405', '19348', '41213', '15700', '38167', '26209', '33129', '43961', '23800', '13838', '48742', '23594', '20590', '16168', '33351', '5622', '23039', '14727', '24852', '9405', '16168', '39216', '14197', '38730', '31477', '6567', '22920'], tags=['206209'])]"
      ]
     },
     "execution_count": 22,
     "metadata": {},
     "output_type": "execute_result"
    }
   ],
   "source": [
    "train_corpus[206208:]"
   ]
  },
  {
   "cell_type": "code",
   "execution_count": 23,
   "metadata": {
    "collapsed": false
   },
   "outputs": [
    {
     "name": "stdout",
     "output_type": "stream",
     "text": [
      "0.0\n",
      "12.5\n",
      "[3, 0, 0, 0, 0, 1, 0, 139, 0, 51, 1, 38, 0, 1, 0, 0, 4, 0, 0, 12]\n"
     ]
    },
    {
     "data": {
      "text/plain": [
       "Counter({0: 11, 1: 3, 3: 1, 4: 1, 12: 1, 38: 1, 51: 1, 139: 1})"
      ]
     },
     "execution_count": 23,
     "metadata": {},
     "output_type": "execute_result"
    }
   ],
   "source": [
    "# What percent of the users are most similar to themselves\n",
    "ranks = []\n",
    "second_ranks = []\n",
    "for doc_id in range(200000,200020):\n",
    "    inferred_vector = model.infer_vector(train_corpus[doc_id].words)\n",
    "    sims = model.docvecs.most_similar([inferred_vector], topn=len(model.docvecs))\n",
    "    doc_id +=1\n",
    "    rank = [docid for docid, sim in sims].index(str(doc_id))\n",
    "    ranks.append(rank)\n",
    "    \n",
    "    second_ranks.append(sims[1])\n",
    "\n",
    "print(np.median(ranks))\n",
    "print(np.mean(ranks))\n",
    "print(ranks)\n",
    "collections.Counter(ranks)"
   ]
  },
  {
   "cell_type": "code",
   "execution_count": 24,
   "metadata": {
    "collapsed": false
   },
   "outputs": [],
   "source": [
    "model.save('user2vec.model')"
   ]
  },
  {
   "cell_type": "code",
   "execution_count": 25,
   "metadata": {
    "collapsed": false
   },
   "outputs": [
    {
     "data": {
      "text/plain": [
       "[('25400', 0.9414414167404175),\n",
       " ('54166', 0.921072244644165),\n",
       " ('192128', 0.916122555732727),\n",
       " ('926', 0.9019380807876587),\n",
       " ('6219', 0.9010218381881714),\n",
       " ('116144', 0.8999731540679932),\n",
       " ('48187', 0.8938146829605103),\n",
       " ('161198', 0.8907219171524048),\n",
       " ('114735', 0.882647693157196),\n",
       " ('103120', 0.8791428804397583)]"
      ]
     },
     "execution_count": 25,
     "metadata": {},
     "output_type": "execute_result"
    }
   ],
   "source": [
    "model.docvecs.most_similar('196001')"
   ]
  },
  {
   "cell_type": "code",
   "execution_count": 27,
   "metadata": {
    "collapsed": false
   },
   "outputs": [
    {
     "data": {
      "text/plain": [
       "array([  3.23880959,  10.804533  ,  -2.76262021,  13.28987312,\n",
       "        -7.43069839,   2.89949465,   6.07739401,   6.89272594,\n",
       "        -4.97311211,   1.50338686,   0.11457467,  -9.88916492,\n",
       "         5.20227337,  -9.37825871, -12.15703773,   1.35015774,\n",
       "         3.32924843,  -3.86280751,   0.57778138,   7.15009975], dtype=float32)"
      ]
     },
     "execution_count": 27,
     "metadata": {},
     "output_type": "execute_result"
    }
   ],
   "source": [
    "model.docvecs['196001']"
   ]
  },
  {
   "cell_type": "markdown",
   "metadata": {},
   "source": [
    "### Prepare pandas dataframe"
   ]
  },
  {
   "cell_type": "code",
   "execution_count": 17,
   "metadata": {
    "collapsed": true
   },
   "outputs": [],
   "source": [
    "# # This is the non-iterator approach\n",
    "# from gensim.models.doc2vec import LabeledSentence\n",
    "# start_time = timeit.default_timer()\n",
    "\n",
    "# combined_orders_by_user_id_list = prior_orders.groupby(\"user_id\").apply(lambda order: order['product_id'].tolist())\n",
    "\n",
    "# combined_orders_by_user_id_list_user_ids = \n",
    "\n",
    "\n",
    "# sentences = LabeledSentence(words=dict(row._asdict())['all_orders'].split(),tags=[dict(row._asdict())['user_id']])\n",
    "\n",
    "# model = gensim.models.Doc2Vec(size=300, window=10, min_count=5, workers=11,alpha=0.025, min_alpha=0.025,iter=1) # use fixed learning rate\n",
    "\n",
    "# print(timeit.default_timer() - start_time )"
   ]
  },
  {
   "cell_type": "code",
   "execution_count": 19,
   "metadata": {
    "collapsed": false
   },
   "outputs": [],
   "source": [
    "user_num = combined_orders_by_user_id.shape[0]\n",
    "user_vectors = np.ndarray((user_num,dimension_size+1), dtype=np.float32)\n",
    "\n",
    "\n",
    "for user_id in range(user_num):\n",
    "    \n",
    "    user_vectors[user_id,1:] = model.docvecs[str(user_id+1)]\n",
    "    user_vectors[user_id,0] = int(user_id+1)\n",
    "    \n",
    "    "
   ]
  },
  {
   "cell_type": "code",
   "execution_count": 28,
   "metadata": {
    "collapsed": false
   },
   "outputs": [
    {
     "name": "stdout",
     "output_type": "stream",
     "text": [
      "(206209, 20)\n"
     ]
    },
    {
     "data": {
      "text/html": [
       "<div>\n",
       "<style>\n",
       "    .dataframe thead tr:only-child th {\n",
       "        text-align: right;\n",
       "    }\n",
       "\n",
       "    .dataframe thead th {\n",
       "        text-align: left;\n",
       "    }\n",
       "\n",
       "    .dataframe tbody tr th {\n",
       "        vertical-align: top;\n",
       "    }\n",
       "</style>\n",
       "<table border=\"1\" class=\"dataframe\">\n",
       "  <thead>\n",
       "    <tr style=\"text-align: right;\">\n",
       "      <th></th>\n",
       "      <th>uv_1</th>\n",
       "      <th>uv_2</th>\n",
       "      <th>uv_3</th>\n",
       "      <th>uv_4</th>\n",
       "      <th>uv_5</th>\n",
       "      <th>uv_6</th>\n",
       "      <th>uv_7</th>\n",
       "      <th>uv_8</th>\n",
       "      <th>uv_9</th>\n",
       "      <th>uv_10</th>\n",
       "      <th>uv_11</th>\n",
       "      <th>uv_12</th>\n",
       "      <th>uv_13</th>\n",
       "      <th>uv_14</th>\n",
       "      <th>uv_15</th>\n",
       "      <th>uv_16</th>\n",
       "      <th>uv_17</th>\n",
       "      <th>uv_18</th>\n",
       "      <th>uv_19</th>\n",
       "      <th>uv_20</th>\n",
       "    </tr>\n",
       "    <tr>\n",
       "      <th>user_id</th>\n",
       "      <th></th>\n",
       "      <th></th>\n",
       "      <th></th>\n",
       "      <th></th>\n",
       "      <th></th>\n",
       "      <th></th>\n",
       "      <th></th>\n",
       "      <th></th>\n",
       "      <th></th>\n",
       "      <th></th>\n",
       "      <th></th>\n",
       "      <th></th>\n",
       "      <th></th>\n",
       "      <th></th>\n",
       "      <th></th>\n",
       "      <th></th>\n",
       "      <th></th>\n",
       "      <th></th>\n",
       "      <th></th>\n",
       "      <th></th>\n",
       "    </tr>\n",
       "  </thead>\n",
       "  <tbody>\n",
       "    <tr>\n",
       "      <th>1</th>\n",
       "      <td>-0.520328</td>\n",
       "      <td>6.466732</td>\n",
       "      <td>8.108711</td>\n",
       "      <td>20.394876</td>\n",
       "      <td>-3.021416</td>\n",
       "      <td>3.561839</td>\n",
       "      <td>6.041957</td>\n",
       "      <td>0.555195</td>\n",
       "      <td>-0.630227</td>\n",
       "      <td>0.302646</td>\n",
       "      <td>-15.767176</td>\n",
       "      <td>-3.373981</td>\n",
       "      <td>20.488789</td>\n",
       "      <td>-2.917972</td>\n",
       "      <td>-21.544838</td>\n",
       "      <td>-0.492404</td>\n",
       "      <td>-8.259093</td>\n",
       "      <td>-10.426340</td>\n",
       "      <td>-12.178179</td>\n",
       "      <td>12.187541</td>\n",
       "    </tr>\n",
       "    <tr>\n",
       "      <th>2</th>\n",
       "      <td>2.419382</td>\n",
       "      <td>-2.376617</td>\n",
       "      <td>2.092973</td>\n",
       "      <td>7.325765</td>\n",
       "      <td>3.112566</td>\n",
       "      <td>-2.381903</td>\n",
       "      <td>1.373984</td>\n",
       "      <td>3.155437</td>\n",
       "      <td>4.530574</td>\n",
       "      <td>-3.539254</td>\n",
       "      <td>5.123880</td>\n",
       "      <td>5.844696</td>\n",
       "      <td>1.207510</td>\n",
       "      <td>9.917433</td>\n",
       "      <td>3.767130</td>\n",
       "      <td>-6.942054</td>\n",
       "      <td>-0.086864</td>\n",
       "      <td>6.330691</td>\n",
       "      <td>-13.983377</td>\n",
       "      <td>3.547235</td>\n",
       "    </tr>\n",
       "    <tr>\n",
       "      <th>3</th>\n",
       "      <td>5.324028</td>\n",
       "      <td>4.561249</td>\n",
       "      <td>-7.733359</td>\n",
       "      <td>15.654157</td>\n",
       "      <td>2.985079</td>\n",
       "      <td>-11.237670</td>\n",
       "      <td>-13.007057</td>\n",
       "      <td>13.304809</td>\n",
       "      <td>-3.006064</td>\n",
       "      <td>-4.459224</td>\n",
       "      <td>5.757115</td>\n",
       "      <td>-2.564979</td>\n",
       "      <td>9.221734</td>\n",
       "      <td>4.273202</td>\n",
       "      <td>6.182935</td>\n",
       "      <td>8.882185</td>\n",
       "      <td>4.320265</td>\n",
       "      <td>8.839524</td>\n",
       "      <td>-16.229982</td>\n",
       "      <td>10.646294</td>\n",
       "    </tr>\n",
       "    <tr>\n",
       "      <th>4</th>\n",
       "      <td>-7.075795</td>\n",
       "      <td>4.152110</td>\n",
       "      <td>-0.784316</td>\n",
       "      <td>13.434557</td>\n",
       "      <td>8.032644</td>\n",
       "      <td>-7.972020</td>\n",
       "      <td>-1.963240</td>\n",
       "      <td>6.657787</td>\n",
       "      <td>-2.934692</td>\n",
       "      <td>5.202920</td>\n",
       "      <td>5.457757</td>\n",
       "      <td>11.731471</td>\n",
       "      <td>-4.423620</td>\n",
       "      <td>-3.123632</td>\n",
       "      <td>-11.043481</td>\n",
       "      <td>-1.491571</td>\n",
       "      <td>-10.759295</td>\n",
       "      <td>-17.403214</td>\n",
       "      <td>0.905145</td>\n",
       "      <td>-10.391628</td>\n",
       "    </tr>\n",
       "    <tr>\n",
       "      <th>5</th>\n",
       "      <td>4.868900</td>\n",
       "      <td>0.135775</td>\n",
       "      <td>2.382523</td>\n",
       "      <td>-1.627105</td>\n",
       "      <td>-5.048021</td>\n",
       "      <td>-4.720310</td>\n",
       "      <td>7.633911</td>\n",
       "      <td>-5.767624</td>\n",
       "      <td>1.067342</td>\n",
       "      <td>-0.123035</td>\n",
       "      <td>-1.496084</td>\n",
       "      <td>-0.447919</td>\n",
       "      <td>0.868454</td>\n",
       "      <td>6.227093</td>\n",
       "      <td>-2.920099</td>\n",
       "      <td>-2.748935</td>\n",
       "      <td>7.493649</td>\n",
       "      <td>5.580180</td>\n",
       "      <td>-7.296006</td>\n",
       "      <td>0.909572</td>\n",
       "    </tr>\n",
       "  </tbody>\n",
       "</table>\n",
       "</div>"
      ],
      "text/plain": [
       "             uv_1      uv_2      uv_3       uv_4      uv_5       uv_6  \\\n",
       "user_id                                                                 \n",
       "1       -0.520328  6.466732  8.108711  20.394876 -3.021416   3.561839   \n",
       "2        2.419382 -2.376617  2.092973   7.325765  3.112566  -2.381903   \n",
       "3        5.324028  4.561249 -7.733359  15.654157  2.985079 -11.237670   \n",
       "4       -7.075795  4.152110 -0.784316  13.434557  8.032644  -7.972020   \n",
       "5        4.868900  0.135775  2.382523  -1.627105 -5.048021  -4.720310   \n",
       "\n",
       "              uv_7       uv_8      uv_9     uv_10      uv_11      uv_12  \\\n",
       "user_id                                                                   \n",
       "1         6.041957   0.555195 -0.630227  0.302646 -15.767176  -3.373981   \n",
       "2         1.373984   3.155437  4.530574 -3.539254   5.123880   5.844696   \n",
       "3       -13.007057  13.304809 -3.006064 -4.459224   5.757115  -2.564979   \n",
       "4        -1.963240   6.657787 -2.934692  5.202920   5.457757  11.731471   \n",
       "5         7.633911  -5.767624  1.067342 -0.123035  -1.496084  -0.447919   \n",
       "\n",
       "             uv_13     uv_14      uv_15     uv_16      uv_17      uv_18  \\\n",
       "user_id                                                                   \n",
       "1        20.488789 -2.917972 -21.544838 -0.492404  -8.259093 -10.426340   \n",
       "2         1.207510  9.917433   3.767130 -6.942054  -0.086864   6.330691   \n",
       "3         9.221734  4.273202   6.182935  8.882185   4.320265   8.839524   \n",
       "4        -4.423620 -3.123632 -11.043481 -1.491571 -10.759295 -17.403214   \n",
       "5         0.868454  6.227093  -2.920099 -2.748935   7.493649   5.580180   \n",
       "\n",
       "             uv_19      uv_20  \n",
       "user_id                        \n",
       "1       -12.178179  12.187541  \n",
       "2       -13.983377   3.547235  \n",
       "3       -16.229982  10.646294  \n",
       "4         0.905145 -10.391628  \n",
       "5        -7.296006   0.909572  "
      ]
     },
     "execution_count": 28,
     "metadata": {},
     "output_type": "execute_result"
    }
   ],
   "source": [
    "product_vector_df = pd.DataFrame(data = user_vectors)\n",
    "product_vector_df.rename(index=str,columns = lambda x : 'uv_' + str(x),inplace=True)\n",
    "product_vector_df.rename(index=str,columns={'uv_0':'user_id'},inplace=True)\n",
    "product_vector_df.user_id = product_vector_df.user_id.astype(int)\n",
    "product_vector_df.set_index('user_id',inplace=True)\n",
    "product_vector_df.to_csv('user_vectors_'+str(dimension_size)+'.csv')\n",
    "print(product_vector_df.shape)\n",
    "product_vector_df.head()"
   ]
  },
  {
   "cell_type": "code",
   "execution_count": null,
   "metadata": {
    "collapsed": true
   },
   "outputs": [],
   "source": []
  }
 ],
 "metadata": {
  "_change_revision": 0,
  "_is_fork": false,
  "anaconda-cloud": {},
  "kernelspec": {
   "display_name": "Python [default]",
   "language": "python",
   "name": "python3"
  },
  "language_info": {
   "codemirror_mode": {
    "name": "ipython",
    "version": 3
   },
   "file_extension": ".py",
   "mimetype": "text/x-python",
   "name": "python",
   "nbconvert_exporter": "python",
   "pygments_lexer": "ipython3",
   "version": "3.5.2"
  }
 },
 "nbformat": 4,
 "nbformat_minor": 0
}
